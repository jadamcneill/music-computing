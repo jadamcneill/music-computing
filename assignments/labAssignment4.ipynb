{
  "nbformat": 4,
  "nbformat_minor": 0,
  "metadata": {
    "colab": {
      "provenance": [],
      "include_colab_link": true
    },
    "kernelspec": {
      "name": "python3",
      "display_name": "Python 3"
    },
    "language_info": {
      "name": "python"
    }
  },
  "cells": [
    {
      "cell_type": "markdown",
      "metadata": {
        "id": "view-in-github",
        "colab_type": "text"
      },
      "source": [
        "<a href=\"https://colab.research.google.com/github/jadamcneill/music-computing/blob/main/assignments/labAssignment4.ipynb\" target=\"_parent\"><img src=\"https://colab.research.google.com/assets/colab-badge.svg\" alt=\"Open In Colab\"/></a>"
      ]
    },
    {
      "cell_type": "code",
      "execution_count": null,
      "metadata": {
        "id": "MIwOrFnLQsi7"
      },
      "outputs": [],
      "source": [
        "import numpy as np\n",
        "import matplotlib.pyplot as plt\n",
        "import librosa\n",
        "import librosa.display\n",
        "import IPython.display"
      ]
    },
    {
      "cell_type": "code",
      "source": [
        "def plotAudio2(sig,sampleRate,title):\n",
        "\n",
        "\n",
        "   # this version expects the audio file to have already been opened by librosa\n",
        "\n",
        "\n",
        "   # Adjust the x-axis to represent time\n",
        "   time=np.arange(0,sig.shape[0])/sr\n",
        "\n",
        "\n",
        "   # Scale the y-axis to represent amplitude from -1 to 1\n",
        "   excursion=max(abs(sig))\n",
        "   sigNew = sig / excursion\n",
        "\n",
        "\n",
        "   # Label the x and y axes with variables\n",
        "   xlabel = 'Time (seconds)'\n",
        "   ylabel = 'Amplitude'\n",
        "\n",
        "\n",
        "   #plot the signal using the x and y axis variables\n",
        "   plt.plot(time,sigNew)\n",
        "   plt.xlabel(xlabel)\n",
        "   plt.ylabel(ylabel)\n",
        "   plt.title(title)\n",
        "   plt.show()\n"
      ],
      "metadata": {
        "id": "UhHY5gfiRIDf"
      },
      "execution_count": null,
      "outputs": []
    },
    {
      "cell_type": "code",
      "source": [
        "def plotAudioFreqDomain():\n",
        "\n",
        "    # from Assignment 3\n",
        "\n",
        "\n",
        "    def plotAudioFreqDomain(sig,sr,title,winSize,specType):\n",
        "\n",
        "    # create a normalized spectrogram\n",
        "    # this includes several function calls\n",
        "    # first create a basic specgrogram with librosa.stft() with the default window size (2048)\n",
        "    # then make all of values in the spectrogram positive with np.abs()\n",
        "    # then scale the spectogram to be in decibels, so it better reflects how we hear librosa.amplitude_to_db()\n",
        "     spec = librosa.amplitude_to_db(np.abs(librosa.stft(sig)), ref=np.max)\n",
        "\n",
        "\n",
        "    # display the normalized spectrogram with a log frequency scale\n",
        "    librosa.display.specshow(spec, y_axis='linear')\n",
        "    plt.colorbar(format='%+2.0f dB')\n",
        "    plt.title('Linear-frequency power spectrogram')\n",
        "    plt.show()\n"
      ],
      "metadata": {
        "id": "da2LkB5ORI3G"
      },
      "execution_count": null,
      "outputs": []
    },
    {
      "cell_type": "code",
      "source": [
        "def additiveSynthesis(samplingRate,frequency,numHarmonics,seqHarm,ampExponent):\n",
        "\n",
        "   # from additiveSynthesis.ipynb\n",
        "\n",
        "\n",
        "    # generate list of harmonics\n",
        "    harmonics = np.arange(1,numHarmonics+1,seqHarm)\n",
        "\n",
        "    # create a time series from 0 to 1 the inputted length\n",
        "    timeSeries = np.linspace(0, 1, samplingRate)\n",
        "\n",
        "    # create a cosine wave for the fundamental\n",
        "    signal = np.cos(2.0 * np.pi * frequency * timeSeries)\n",
        "\n",
        "    # add harmonics based on the those specified in the variable 'harmonics'\n",
        "    for harm in harmonics:\n",
        "        signal = signal + np.cos(2.0 * np.pi * frequency * harm * timeSeries)/harm**ampExponent\n",
        "\n",
        "    # scale the signal to between -1 and 1\n",
        "    excursion=max(abs(signal))\n",
        "    signal = signal / excursion\n",
        "\n",
        "    # plot signal\n",
        "    plt.plot(timeSeries,signal)\n",
        "    plt.xlabel('Time (Sec)')\n",
        "    plt.ylabel('Amplitude')\n",
        "    plt.title('Additive Synthesis')\n",
        "    plt.plot\n",
        "\n",
        "    return signal\n"
      ],
      "metadata": {
        "id": "QBLS6mXhRVsB"
      },
      "execution_count": null,
      "outputs": []
    },
    {
      "cell_type": "code",
      "source": [
        "def makeWaveforms(frequency,samplingRate,numHarmonics,waveType):\n",
        "    # use an if/elif/else statement to set up the parameters for\n",
        "    # the different type of waveforms based on the code in\n",
        "    # additiveSynthesis.ipynb\n",
        "    # if, elif (else if) and else can be used to evaluate the contents of a variable\n",
        "\n",
        "\n",
        " samplingRate = 44100\n",
        "\n",
        "frequency = 100\n",
        "numHarmonics = 100\n",
        "waveType = 'sawtooth'\n",
        "\n",
        "# if, elif (else if) and else can be used to evaluate the contents of a variable\n",
        "if waveType == 'sawtooth':\n",
        "    seqHarm = 1\n",
        "    ampExponent = 1\n",
        "elif waveType == 'square':\n",
        "    seqHarm = 2\n",
        "    ampExponent = 1\n",
        "elif waveType == 'triangle':\n",
        "    seqHarm = 2\n",
        "    ampExponent = 2\n",
        "else:\n",
        "    numHarmonics = 1\n",
        "    seqHarm = 1\n",
        "    ampExponent = 1\n",
        "\n",
        "signal = additiveSynthesis(samplingRate,frequency,numHarmonics,seqHarm,ampExponent)\n",
        "\n",
        "# play signal\n",
        "IPython.display.Audio(data=signal, rate=samplingRate)\n",
        "\n",
        "return signal\n",
        "# if, elif (else if) and else can be used to evaluate the contents of a variable\n",
        "\n",
        "\n",
        "# call additiveSynthesis() to generate a waveform\n",
        "additiveSynthesis\n",
        "\n",
        "# return the generated waveform (signal)\n",
        "\n"
      ],
      "metadata": {
        "id": "Xg02ng-gWYQy",
        "outputId": "3793011f-35f2-4a81-a7fb-ea66f1f34c47",
        "colab": {
          "base_uri": "https://localhost:8080/",
          "height": 211
        }
      },
      "execution_count": 9,
      "outputs": [
        {
          "output_type": "error",
          "ename": "NameError",
          "evalue": "name 'additiveSynthesis' is not defined",
          "traceback": [
            "\u001b[0;31m---------------------------------------------------------------------------\u001b[0m",
            "\u001b[0;31mNameError\u001b[0m                                 Traceback (most recent call last)",
            "\u001b[0;32m<ipython-input-9-2dc338d0c4b8>\u001b[0m in \u001b[0;36m<cell line: 0>\u001b[0;34m()\u001b[0m\n\u001b[1;32m     27\u001b[0m     \u001b[0mampExponent\u001b[0m \u001b[0;34m=\u001b[0m \u001b[0;36m1\u001b[0m\u001b[0;34m\u001b[0m\u001b[0;34m\u001b[0m\u001b[0m\n\u001b[1;32m     28\u001b[0m \u001b[0;34m\u001b[0m\u001b[0m\n\u001b[0;32m---> 29\u001b[0;31m \u001b[0msignal\u001b[0m \u001b[0;34m=\u001b[0m \u001b[0madditiveSynthesis\u001b[0m\u001b[0;34m(\u001b[0m\u001b[0msamplingRate\u001b[0m\u001b[0;34m,\u001b[0m\u001b[0mfrequency\u001b[0m\u001b[0;34m,\u001b[0m\u001b[0mnumHarmonics\u001b[0m\u001b[0;34m,\u001b[0m\u001b[0mseqHarm\u001b[0m\u001b[0;34m,\u001b[0m\u001b[0mampExponent\u001b[0m\u001b[0;34m)\u001b[0m\u001b[0;34m\u001b[0m\u001b[0;34m\u001b[0m\u001b[0m\n\u001b[0m\u001b[1;32m     30\u001b[0m \u001b[0;34m\u001b[0m\u001b[0m\n\u001b[1;32m     31\u001b[0m \u001b[0;31m# play signal\u001b[0m\u001b[0;34m\u001b[0m\u001b[0;34m\u001b[0m\u001b[0m\n",
            "\u001b[0;31mNameError\u001b[0m: name 'additiveSynthesis' is not defined"
          ]
        }
      ]
    },
    {
      "cell_type": "code",
      "source": [
        "def visualizeWaveforms(frequency, samplingRate, numHarmonics, waveType):\n",
        "  # call makeWaveform()\n",
        "\n",
        "  makeWaveforms(frequency,samplingRate,numHarmonics,waveType):\n",
        "\n",
        "  # test whether makeWaveforms() runs without error before you try plotting anything\n",
        "\n",
        "  # call plotAudio2()\n",
        "\n",
        "  # call plotAudioFreqDomain()\n",
        "\n",
        "  # return the output of makeWaveform()"
      ],
      "metadata": {
        "id": "SunRmpf6Wn63",
        "colab": {
          "base_uri": "https://localhost:8080/",
          "height": 106
        },
        "outputId": "d509e4e8-4af8-4d60-fffe-26d1376381ae"
      },
      "execution_count": 5,
      "outputs": [
        {
          "output_type": "error",
          "ename": "SyntaxError",
          "evalue": "invalid syntax (<ipython-input-5-340ed5017209>, line 4)",
          "traceback": [
            "\u001b[0;36m  File \u001b[0;32m\"<ipython-input-5-340ed5017209>\"\u001b[0;36m, line \u001b[0;32m4\u001b[0m\n\u001b[0;31m    makeWaveforms(frequency,samplingRate,numHarmonics,waveType):\u001b[0m\n\u001b[0m                                                               ^\u001b[0m\n\u001b[0;31mSyntaxError\u001b[0m\u001b[0;31m:\u001b[0m invalid syntax\n"
          ]
        }
      ]
    },
    {
      "cell_type": "code",
      "source": [
        "frequency = 100\n",
        "samplingRate = 44100\n",
        "numHarmonics = 100\n",
        "waveType = 'sine'\n",
        "winSize = 1024\n",
        "specType = 'log'\n",
        "\n",
        "\n",
        "\n",
        "\n",
        "# IPython.display.Audio() with the signal returned from visualizeWaveforms()\n",
        "\n",
        "#visualizeWaveforms()\n",
        "#IPython.display.Audio()\n",
        "import IPython.display\n",
        "# Assuming visualizeWaveforms() is defined and returns an audio signal\n",
        "# Replace with the actual function call\n",
        "# audio_signal = visualizeWaveforms()\n",
        "# IPython.display.Audio(audio_signal)\n",
        "#IPython.display.Audio()"
      ],
      "metadata": {
        "id": "MBNM9MMwSV2r"
      },
      "execution_count": 10,
      "outputs": []
    },
    {
      "cell_type": "code",
      "source": [
        "frequency = 100\n",
        "samplingRate = 44100\n",
        "numHarmonics = 100\n",
        "waveType = 'sawtooth'\n",
        "winSize = 1024\n",
        "specType = 'log'\n",
        "\n",
        "frequency = 100\n",
        "samplingRate = 44100\n",
        "numHarmonics = 100\n",
        "waveType = 'sawtooth'\n",
        "frequency = 100\n",
        "samplingRate = 44100\n",
        "numHarmonics = 100\n",
        "waveType = 'sawtooth'\n",
        "winSize = 1024\n",
        "specType = 'log'\n",
        "\n",
        "frequency = 100\n",
        "samplingRate = 44100\n",
        "numHarmonics = 100\n",
        "waveType = 'sawtooth'\n",
        "winSize = 1024\n",
        "specType = 'log'\n",
        "#call IPython.display.Audio() with the signal returned from visualizeWaveforms()\n",
        "#visualizeWaveforms()\n",
        "#IPython.display.Audio()\n",
        "from IPython.display import Audio\n",
        "# Assuming visualizeWaveforms() returns the audio signal\n",
        "# audio_signal = visualizeWaveforms()\n",
        "# Audio(audio_signal)"
      ],
      "metadata": {
        "id": "GKWxd4dHWG_B"
      },
      "execution_count": null,
      "outputs": []
    },
    {
      "cell_type": "code",
      "source": [
        "frequency = 100\n",
        "samplingRate = 44100\n",
        "numHarmonics = 100\n",
        "waveType = 'triangle'\n",
        "winSize = 1024\n",
        "specType = 'log'\n",
        "\n",
        "frequency = 100\n",
        "samplingRate = 44100\n",
        "numHarmonics = 100\n",
        "waveType = 'triangle'\n",
        "frequency = 100\n",
        "samplingRate = 44100\n",
        "numHarmonics = 100\n",
        "waveType = 'triangle'\n",
        "winSize = 1024\n",
        "specType = 'log'\n",
        "\n",
        "frequency = 100\n",
        "samplingRate = 44100\n",
        "numHarmonics = 100\n",
        "waveType = 'triangle'\n",
        "winSize = 1024\n",
        "specType = 'log'\n",
        "#call IPython.display.Audio() with the signal returned from visualizeWaveforms()\n",
        "\n",
        "#visualizeWaveforms()\n",
        "#IPython.display.Audio()\n",
        "from IPython.display import Audio\n",
        "# Assuming visualizeWaveforms() returns the signal\n",
        "# Audio(visualizeWaveforms())\n",
        "#IPython.display.Audio()"
      ],
      "metadata": {
        "id": "goh3AlgaWLMq"
      },
      "execution_count": null,
      "outputs": []
    },
    {
      "cell_type": "code",
      "source": [
        "frequency = 100\n",
        "samplingRate = 44100\n",
        "numHarmonics = 100\n",
        "waveType = 'square'\n",
        "winSize = 1024\n",
        "specType = 'log'\n",
        "\n",
        "frequency = 100\n",
        "samplingRate = 44100\n",
        "numHarmonics = 100\n",
        "waveType = 'square'\n",
        "frequency = 100\n",
        "samplingRate = 44100\n",
        "numHarmonics = 100\n",
        "waveType = 'square'\n",
        "winSize = 1024\n",
        "specType = 'log'\n",
        "\n",
        "frequency = 100\n",
        "samplingRate = 44100\n",
        "numHarmonics = 100\n",
        "waveType = 'square'\n",
        "winSize = 1024\n",
        "specType = 'log'\n",
        "#call IPython.display.Audio() with the signal returned from visualizeWaveforms()\n",
        "#visualizeWaveforms()\n",
        "#IPython.display.Audio()\n",
        "from IPython.display import Audio\n",
        "# Assuming visualizeWaveforms() returns the signal\n",
        "# Replace with the actual call to visualizeWaveforms()\n",
        "# signal = visualizeWaveforms()\n",
        "# Audio(signal)"
      ],
      "metadata": {
        "id": "GB4BGoA3WQhv"
      },
      "execution_count": null,
      "outputs": []
    }
  ]
}