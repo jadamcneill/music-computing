{
  "cells": [
    {
      "cell_type": "markdown",
      "metadata": {
        "id": "view-in-github",
        "colab_type": "text"
      },
      "source": [
        "<a href=\"https://colab.research.google.com/github/jadamcneill/music-computing/blob/main/assignments/labAssignment2.ipynb\" target=\"_parent\"><img src=\"https://colab.research.google.com/assets/colab-badge.svg\" alt=\"Open In Colab\"/></a>"
      ]
    },
    {
      "cell_type": "code",
      "execution_count": null,
      "metadata": {
        "colab": {
          "base_uri": "https://localhost:8080/"
        },
        "id": "TvzGNqHd52M1",
        "outputId": "726ee324-34b2-4747-e7d0-42c1b4c5af94"
      },
      "outputs": [
        {
          "output_type": "stream",
          "name": "stdout",
          "text": [
            "Cloning into 'musicComputing2025'...\n",
            "remote: Enumerating objects: 180, done.\u001b[K\n",
            "remote: Counting objects: 100% (67/67), done.\u001b[K\n",
            "remote: Compressing objects: 100% (63/63), done.\u001b[K\n",
            "remote: Total 180 (delta 34), reused 5 (delta 3), pack-reused 113 (from 1)\u001b[K\n",
            "Receiving objects: 100% (180/180), 28.59 MiB | 8.16 MiB/s, done.\n",
            "Resolving deltas: 100% (80/80), done.\n",
            "Updating files: 100% (28/28), done.\n"
          ]
        }
      ],
      "source": [
        "# import libraries\n",
        "import numpy as np\n",
        "import matplotlib.pylab as plt\n",
        "import librosa.display\n",
        "import IPython.display\n",
        "import librosa\n",
        "\n",
        "# import audio files\n",
        "!git clone https://github.com/jcdevaney/musicComputing2025.git"
      ]
    },
    {
      "cell_type": "code",
      "execution_count": null,
      "metadata": {
        "id": "L9c7z7rm52M2"
      },
      "outputs": [],
      "source": [
        "def plotAudio2(sig,sampleRate,title):\n",
        "\n",
        "\n",
        "   # this version expects the audio file to have already been opened by librosa\n",
        "\n",
        "\n",
        "   # Adjust the x-axis to represent time\n",
        "\n",
        "\n",
        "   time=np.arange(0,sig.shape[0])/sr\n",
        "\n",
        "\n",
        "   # Scale the y-axis to represent amplitude from -1 to 1\n",
        "   excursion=max(abs(sig))\n",
        "   sigNew = sig / excursion\n",
        "\n",
        "\n",
        "   # Label the x and y axes with variables\n",
        "   xlabel = 'Time (seconds)'\n",
        "   ylabel = 'Amplitude'\n",
        "\n",
        "\n",
        "   #plot the signal using the x and y axis variables\n",
        "   plt.plot(time,sigNew)\n",
        "   plt.xlabel(xlabel)\n",
        "   plt.ylabel(ylabel)\n",
        "   plt.title(title)\n",
        "   plt.show()\n",
        "\n",
        "\n",
        "    # this version expects the audio file to have already been opened by librosa\n",
        "\n"
      ]
    },
    {
      "cell_type": "code",
      "execution_count": null,
      "metadata": {
        "id": "ePlIFlDj52M2"
      },
      "outputs": [],
      "source": [
        "def subplots(plotPos,title,data,time,color,ylabel,xlabel):\n",
        "\n",
        "    #plot the inputted data into the subplot specified in the list plotPos\n",
        "    plt.subplot(plotPos[0],plotPos[1],plotPos[2])\n",
        "    plt.title(title)\n",
        "    plt.plot(time,data,color)\n",
        "    plt.ylabel(ylabel)\n",
        "    plt.xlabel(xlabel)"
      ]
    },
    {
      "cell_type": "code",
      "execution_count": null,
      "metadata": {
        "id": "a93eZznN52M3"
      },
      "outputs": [],
      "source": [
        "def makeEchoes(sig,sr,sec,echoes):\n",
        "\n",
        "    #calculate the number of bytes which corresponds to the offset in milliseconds\n",
        "    offset=int(sr*sec)\n",
        "\n",
        "    #add extra space at the end for the delays\n",
        "    ending = np.zeros((offset*(len(echoes))))\n",
        "\n",
        "    delayedSig = np.concatenate((sig,ending))\n",
        "\n",
        "    for i in range(len(echoes)):\n",
        "\n",
        "        #create some silence\n",
        "        # python indexes starting with zero which is why you need to add one\n",
        "        beginning = np.zeros(offset*(i+1))\n",
        "\n",
        "        #create delayed version of signal\n",
        "        delay = np.concatenate((beginning,sig))\n",
        "        delay = delay * echoes[i]\n",
        "\n",
        "        #pad the end of delay with zeros to make it the same length as delaysedSig\n",
        "        delay = np.concatenate((delay,np.zeros((delayedSig.size-delay.size))))\n",
        "\n",
        "        # combine with output signal\n",
        "        delayedSig = delayedSig + delay\n",
        "\n",
        "    return delayedSig"
      ]
    },
    {
      "cell_type": "code",
      "execution_count": null,
      "metadata": {
        "id": "pPbWbozx52M3"
      },
      "outputs": [],
      "source": [
        "def amplitudeModulation(sig,modulatorFreq,modulatorAmp,modIndex):\n",
        "\n",
        "    # create a time series from 0 to 1 the length of the inputted sig\n",
        "    timeSeries = np.linspace(0, 1, len(sig))\n",
        "    #create a cosine wave modulator with the time series using the inputted modulation frequency\n",
        "    #with the np.cos function and multiple it by the inputted modulation amplitude\n",
        "    modulator = modulatorAmp * np.cos (2 * np.pi * modulatorFreq * timeSeries)\n",
        "    #perform amplitude modulation by multiplying the inputted sig with the modulator\n",
        "    #(multiplied by 1 + modulation index)\n",
        "    amMod = (1 + modIndex * modulator) * sig\n",
        "\n",
        "    #create a time series to represent time for plotting\n",
        "    time=np.arange(0,sig.shape[0])/sr\n",
        "\n",
        "    #plot the modulator, the carrier (sig), and the result of the amplitude modulation (amMod)\n",
        "    subplots([3,1,1],'Modulator signal',modulator,time,'g','Amplitude','Time')\n",
        "    subplots([3,1,2],'Original (carrier) signal',sig,time,'r','Amplitude','Time')\n",
        "    subplots([3,1,3],'Amplitude Modulated Signal',amMod,time,'purple','Amplitude','Time')\n",
        "\n",
        "    plt.subplots_adjust(hspace=1)\n",
        "    plt.rc('font', size=15)\n",
        "    fig = plt.gcf()\n",
        "    fig.set_size_inches(16, 9)\n",
        "\n",
        "    return amMod"
      ]
    },
    {
      "cell_type": "code",
      "execution_count": null,
      "metadata": {
        "id": "Acs3h-nH52M4"
      },
      "outputs": [],
      "source": [
        "def echoAM(sig,sr,delay,echoes,modulatorFreq,modulatorAmp,modIndex):\n",
        "\n",
        "# create a function called echoAM() that inputs\n",
        "#      - an audio signal\n",
        "#      - the audio signal’s sampling rate\n",
        "#      - a delay time (in seconds)\n",
        "#      - a list containing the amplitude for the delays (# of delays specified by the length of the list)\n",
        "#      - an amplitude modulation frequency\n",
        "#      - an amplitude modulation amplitude\n",
        "#      - a modulation index\n",
        "\n",
        "\n",
        "  # plot the original signal in the time domain using plotAudio2()\n",
        "  plotAudio2(sig,sr,'OriginalSignal')\n",
        "\n",
        "  # use makeEchoes() to apply a delay according to the inputted values to the inputted signal\n",
        "  delayedSig= makeEchoes(sig,sr,delay,echoes )\n",
        "\n",
        "\n",
        "\n",
        "  # plot the delay in the time domain using plotAudio2()\n",
        "  plotAudio2(delayedSig,sr,'delayedSig')\n",
        "\n",
        "\n",
        "  # use amplitudeModulation() to apply amplitude modulation according to the inputted\n",
        "  # to the delayed signal and to plot the Modulator Signal, Carrier Signal, and Product Signal\n",
        "  # as subplots in a single plot\n",
        "  amMod=amplitudeModulation(delayedSig,modulatorFreq,modulatorAmp,modIndex)\n",
        "\n",
        "\n",
        "  # return the modified signal\n",
        "  return amMod\n"
      ]
    },
    {
      "cell_type": "code",
      "execution_count": 1,
      "metadata": {
        "colab": {
          "base_uri": "https://localhost:8080/",
          "height": 176
        },
        "id": "pegBfJVD52M4",
        "outputId": "59244ffa-701c-4779-b66f-6ea130b2e0f2"
      },
      "outputs": [
        {
          "output_type": "error",
          "ename": "NameError",
          "evalue": "name 'librosa' is not defined",
          "traceback": [
            "\u001b[0;31m---------------------------------------------------------------------------\u001b[0m",
            "\u001b[0;31mNameError\u001b[0m                                 Traceback (most recent call last)",
            "\u001b[0;32m<ipython-input-1-73544d27eb13>\u001b[0m in \u001b[0;36m<cell line: 0>\u001b[0;34m()\u001b[0m\n\u001b[1;32m      1\u001b[0m \u001b[0;31m# load original signal\u001b[0m\u001b[0;34m\u001b[0m\u001b[0;34m\u001b[0m\u001b[0m\n\u001b[0;32m----> 2\u001b[0;31m \u001b[0msig\u001b[0m \u001b[0;34m,\u001b[0m \u001b[0msr\u001b[0m \u001b[0;34m=\u001b[0m \u001b[0mlibrosa\u001b[0m\u001b[0;34m.\u001b[0m\u001b[0mload\u001b[0m\u001b[0;34m(\u001b[0m\u001b[0;34m'musicComputing2025/audioFiles/avm.wav'\u001b[0m\u001b[0;34m)\u001b[0m\u001b[0;34m\u001b[0m\u001b[0;34m\u001b[0m\u001b[0m\n\u001b[0m\u001b[1;32m      3\u001b[0m \u001b[0mIPython\u001b[0m\u001b[0;34m.\u001b[0m\u001b[0mdisplay\u001b[0m\u001b[0;34m.\u001b[0m\u001b[0mAudio\u001b[0m\u001b[0;34m(\u001b[0m\u001b[0mdata\u001b[0m\u001b[0;34m=\u001b[0m\u001b[0msig\u001b[0m\u001b[0;34m,\u001b[0m \u001b[0mrate\u001b[0m\u001b[0;34m=\u001b[0m\u001b[0msr\u001b[0m\u001b[0;34m)\u001b[0m\u001b[0;34m\u001b[0m\u001b[0;34m\u001b[0m\u001b[0m\n",
            "\u001b[0;31mNameError\u001b[0m: name 'librosa' is not defined"
          ]
        }
      ],
      "source": [
        "# load original signal\n",
        "sig , sr = librosa.load('musicComputing2025/audioFiles/avm.wav')\n",
        "IPython.display.Audio(data=sig, rate=sr)"
      ]
    },
    {
      "cell_type": "code",
      "execution_count": 2,
      "metadata": {
        "colab": {
          "base_uri": "https://localhost:8080/",
          "height": 211
        },
        "id": "FSBKR1hk52M5",
        "outputId": "83f427d9-bdce-4dc9-fa01-ccda6d97b63e"
      },
      "outputs": [
        {
          "output_type": "error",
          "ename": "NameError",
          "evalue": "name 'echoAM' is not defined",
          "traceback": [
            "\u001b[0;31m---------------------------------------------------------------------------\u001b[0m",
            "\u001b[0;31mNameError\u001b[0m                                 Traceback (most recent call last)",
            "\u001b[0;32m<ipython-input-2-9f2e29673b8f>\u001b[0m in \u001b[0;36m<cell line: 0>\u001b[0;34m()\u001b[0m\n\u001b[1;32m      6\u001b[0m \u001b[0;34m\u001b[0m\u001b[0m\n\u001b[1;32m      7\u001b[0m \u001b[0;31m#echoAM(sig,sr,'Ave Maria')\u001b[0m\u001b[0;34m\u001b[0m\u001b[0;34m\u001b[0m\u001b[0m\n\u001b[0;32m----> 8\u001b[0;31m \u001b[0mmodSignal1\u001b[0m \u001b[0;34m=\u001b[0m \u001b[0mechoAM\u001b[0m\u001b[0;34m(\u001b[0m\u001b[0msig\u001b[0m\u001b[0;34m,\u001b[0m\u001b[0msr\u001b[0m\u001b[0;34m,\u001b[0m\u001b[0mdelay\u001b[0m\u001b[0;34m,\u001b[0m\u001b[0mechoes\u001b[0m\u001b[0;34m,\u001b[0m\u001b[0mmodulatorFreq\u001b[0m\u001b[0;34m,\u001b[0m\u001b[0mmodulatorAmp\u001b[0m\u001b[0;34m,\u001b[0m\u001b[0mmodIndex\u001b[0m\u001b[0;34m)\u001b[0m\u001b[0;34m\u001b[0m\u001b[0;34m\u001b[0m\u001b[0m\n\u001b[0m\u001b[1;32m      9\u001b[0m \u001b[0;34m\u001b[0m\u001b[0m\n\u001b[1;32m     10\u001b[0m \u001b[0mIPython\u001b[0m\u001b[0;34m.\u001b[0m\u001b[0mdisplay\u001b[0m\u001b[0;34m.\u001b[0m\u001b[0mAudio\u001b[0m\u001b[0;34m(\u001b[0m\u001b[0mdata\u001b[0m\u001b[0;34m=\u001b[0m\u001b[0mmodSignal1\u001b[0m\u001b[0;34m,\u001b[0m \u001b[0mrate\u001b[0m\u001b[0;34m=\u001b[0m\u001b[0msr\u001b[0m\u001b[0;34m)\u001b[0m\u001b[0;34m\u001b[0m\u001b[0;34m\u001b[0m\u001b[0m\n",
            "\u001b[0;31mNameError\u001b[0m: name 'echoAM' is not defined"
          ]
        }
      ],
      "source": [
        "echoes = [1,1,1]\n",
        "delay = 0.5\n",
        "modulatorFreq = 20\n",
        "modulatorAmp = 0.5\n",
        "modIndex = 1\n",
        "\n",
        "#echoAM(sig,sr,'Ave Maria')\n",
        "modSignal1 = echoAM(sig,sr,delay,echoes,modulatorFreq,modulatorAmp,modIndex)\n",
        "\n",
        "IPython.display.Audio(data=modSignal1, rate=sr)"
      ]
    },
    {
      "cell_type": "code",
      "execution_count": 3,
      "metadata": {
        "id": "kJCL377F52M5",
        "outputId": "97cc2046-4991-427f-932a-a3e256dd3fdf",
        "colab": {
          "base_uri": "https://localhost:8080/",
          "height": 211
        }
      },
      "outputs": [
        {
          "output_type": "error",
          "ename": "NameError",
          "evalue": "name 'echoAM' is not defined",
          "traceback": [
            "\u001b[0;31m---------------------------------------------------------------------------\u001b[0m",
            "\u001b[0;31mNameError\u001b[0m                                 Traceback (most recent call last)",
            "\u001b[0;32m<ipython-input-3-ee84aef22836>\u001b[0m in \u001b[0;36m<cell line: 0>\u001b[0;34m()\u001b[0m\n\u001b[1;32m      5\u001b[0m \u001b[0mmodIndex\u001b[0m \u001b[0;34m=\u001b[0m \u001b[0;36m1\u001b[0m\u001b[0;34m\u001b[0m\u001b[0;34m\u001b[0m\u001b[0m\n\u001b[1;32m      6\u001b[0m \u001b[0;34m\u001b[0m\u001b[0m\n\u001b[0;32m----> 7\u001b[0;31m \u001b[0mmodSignal2\u001b[0m \u001b[0;34m=\u001b[0m \u001b[0mechoAM\u001b[0m\u001b[0;34m(\u001b[0m\u001b[0msig\u001b[0m\u001b[0;34m,\u001b[0m\u001b[0msr\u001b[0m\u001b[0;34m,\u001b[0m\u001b[0mdelay\u001b[0m\u001b[0;34m,\u001b[0m\u001b[0mechoes\u001b[0m\u001b[0;34m,\u001b[0m\u001b[0mmodulatorFreq\u001b[0m\u001b[0;34m,\u001b[0m\u001b[0mmodulatorAmp\u001b[0m\u001b[0;34m,\u001b[0m\u001b[0mmodIndex\u001b[0m\u001b[0;34m)\u001b[0m\u001b[0;34m\u001b[0m\u001b[0;34m\u001b[0m\u001b[0m\n\u001b[0m\u001b[1;32m      8\u001b[0m \u001b[0;34m\u001b[0m\u001b[0m\n\u001b[1;32m      9\u001b[0m \u001b[0mIPython\u001b[0m\u001b[0;34m.\u001b[0m\u001b[0mdisplay\u001b[0m\u001b[0;34m.\u001b[0m\u001b[0mAudio\u001b[0m\u001b[0;34m(\u001b[0m\u001b[0mdata\u001b[0m\u001b[0;34m=\u001b[0m\u001b[0mmodSignal2\u001b[0m\u001b[0;34m,\u001b[0m \u001b[0mrate\u001b[0m\u001b[0;34m=\u001b[0m\u001b[0msr\u001b[0m\u001b[0;34m)\u001b[0m\u001b[0;34m\u001b[0m\u001b[0;34m\u001b[0m\u001b[0m\n",
            "\u001b[0;31mNameError\u001b[0m: name 'echoAM' is not defined"
          ]
        }
      ],
      "source": [
        "echoes = [1,0.5,0.25,0.125,0.0625,0.03125]\n",
        "delay = 0.5\n",
        "modulatorFreq = 20\n",
        "modulatorAmp = 0.5\n",
        "modIndex = 1\n",
        "\n",
        "modSignal2 = echoAM(sig,sr,delay,echoes,modulatorFreq,modulatorAmp,modIndex)\n",
        "\n",
        "IPython.display.Audio(data=modSignal2, rate=sr)"
      ]
    },
    {
      "cell_type": "code",
      "execution_count": 4,
      "metadata": {
        "id": "cyE-dop652M6",
        "outputId": "a75874e1-4c0d-4f28-cd2b-8bbfbf841754",
        "colab": {
          "base_uri": "https://localhost:8080/",
          "height": 211
        }
      },
      "outputs": [
        {
          "output_type": "error",
          "ename": "NameError",
          "evalue": "name 'echoAM' is not defined",
          "traceback": [
            "\u001b[0;31m---------------------------------------------------------------------------\u001b[0m",
            "\u001b[0;31mNameError\u001b[0m                                 Traceback (most recent call last)",
            "\u001b[0;32m<ipython-input-4-02583d9ac0be>\u001b[0m in \u001b[0;36m<cell line: 0>\u001b[0;34m()\u001b[0m\n\u001b[1;32m      5\u001b[0m \u001b[0mmodIndex\u001b[0m \u001b[0;34m=\u001b[0m \u001b[0;36m0.5\u001b[0m\u001b[0;34m\u001b[0m\u001b[0;34m\u001b[0m\u001b[0m\n\u001b[1;32m      6\u001b[0m \u001b[0;34m\u001b[0m\u001b[0m\n\u001b[0;32m----> 7\u001b[0;31m \u001b[0mmodSignal3\u001b[0m \u001b[0;34m=\u001b[0m \u001b[0mechoAM\u001b[0m\u001b[0;34m(\u001b[0m\u001b[0msig\u001b[0m\u001b[0;34m,\u001b[0m\u001b[0msr\u001b[0m\u001b[0;34m,\u001b[0m\u001b[0mdelay\u001b[0m\u001b[0;34m,\u001b[0m\u001b[0mechoes\u001b[0m\u001b[0;34m,\u001b[0m\u001b[0mmodulatorFreq\u001b[0m\u001b[0;34m,\u001b[0m\u001b[0mmodulatorAmp\u001b[0m\u001b[0;34m,\u001b[0m\u001b[0mmodIndex\u001b[0m\u001b[0;34m)\u001b[0m\u001b[0;34m\u001b[0m\u001b[0;34m\u001b[0m\u001b[0m\n\u001b[0m\u001b[1;32m      8\u001b[0m \u001b[0;34m\u001b[0m\u001b[0m\n\u001b[1;32m      9\u001b[0m \u001b[0mIPython\u001b[0m\u001b[0;34m.\u001b[0m\u001b[0mdisplay\u001b[0m\u001b[0;34m.\u001b[0m\u001b[0mAudio\u001b[0m\u001b[0;34m(\u001b[0m\u001b[0mdata\u001b[0m\u001b[0;34m=\u001b[0m\u001b[0mmodSignal3\u001b[0m\u001b[0;34m,\u001b[0m \u001b[0mrate\u001b[0m\u001b[0;34m=\u001b[0m\u001b[0msr\u001b[0m\u001b[0;34m)\u001b[0m\u001b[0;34m\u001b[0m\u001b[0;34m\u001b[0m\u001b[0m\n",
            "\u001b[0;31mNameError\u001b[0m: name 'echoAM' is not defined"
          ]
        }
      ],
      "source": [
        "echoes = [1,1,1,1]\n",
        "delay = 0.5\n",
        "modulatorFreq = 200\n",
        "modulatorAmp = 0.5\n",
        "modIndex = 0.5\n",
        "\n",
        "modSignal3 = echoAM(sig,sr,delay,echoes,modulatorFreq,modulatorAmp,modIndex)\n",
        "\n",
        "IPython.display.Audio(data=modSignal3, rate=sr)"
      ]
    },
    {
      "cell_type": "code",
      "execution_count": 6,
      "metadata": {
        "id": "iI1R-WsC52M6",
        "outputId": "299a995c-5b17-4f3c-cf2d-b53e8945474a",
        "colab": {
          "base_uri": "https://localhost:8080/",
          "height": 106
        }
      },
      "outputs": [
        {
          "output_type": "error",
          "ename": "SyntaxError",
          "evalue": "invalid syntax (<ipython-input-6-5518a02c6258>, line 7)",
          "traceback": [
            "\u001b[0;36m  File \u001b[0;32m\"<ipython-input-6-5518a02c6258>\"\u001b[0;36m, line \u001b[0;32m7\u001b[0m\n\u001b[0;31m    modSignal4 = def echoAM(sig,sr,delay,echoes,modulatorFreq,modulatorAmp,modIndex)\u001b[0m\n\u001b[0m                 ^\u001b[0m\n\u001b[0;31mSyntaxError\u001b[0m\u001b[0;31m:\u001b[0m invalid syntax\n"
          ]
        }
      ],
      "source": [
        "echoes = [1,0.5,0.25,0.125,0.0625,0.03125]\n",
        "delay = 0.5\n",
        "modulatorFreq = 200\n",
        "modulatorAmp = 0.5\n",
        "modIndex = 0.5\n",
        "\n",
        "modSignal4 = def echoAM(sig,sr,delay,echoes,modulatorFreq,modulatorAmp,modIndex)\n",
        "\n",
        "IPython.display.Audio(data=modSignal4, rate=sr)"
      ]
    }
  ],
  "metadata": {
    "kernelspec": {
      "display_name": "Python 3",
      "language": "python",
      "name": "python3"
    },
    "language_info": {
      "codemirror_mode": {
        "name": "ipython",
        "version": 3
      },
      "file_extension": ".py",
      "mimetype": "text/x-python",
      "name": "python",
      "nbconvert_exporter": "python",
      "pygments_lexer": "ipython3",
      "version": "3.6.4"
    },
    "colab": {
      "provenance": [],
      "include_colab_link": true
    }
  },
  "nbformat": 4,
  "nbformat_minor": 0
}